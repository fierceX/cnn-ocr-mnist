{
 "cells": [
  {
   "cell_type": "code",
   "execution_count": 33,
   "metadata": {
    "collapsed": true
   },
   "outputs": [],
   "source": [
    "import random\n",
    "import sys\n",
    "from io import BytesIO\n",
    "import gzip\n",
    "import struct\n",
    "import mxnet as mx\n",
    "from mxnet import nd\n",
    "from mxnet.gluon import nn\n",
    "from mxnet import gluon\n",
    "import numpy as np\n",
    "import cv2\n",
    "import matplotlib.pyplot as plt\n",
    "from collections import namedtuple"
   ]
  },
  {
   "cell_type": "code",
   "execution_count": 2,
   "metadata": {
    "collapsed": true
   },
   "outputs": [],
   "source": [
    "def read_data(label_url, image_url):\n",
    "    with gzip.open(label_url) as flbl:\n",
    "        magic, num = struct.unpack(\">II\", flbl.read(8))\n",
    "        label = np.fromstring(flbl.read(), dtype=np.int8)\n",
    "    with gzip.open(image_url, 'rb') as fimg:\n",
    "        magic, num, rows, cols = struct.unpack(\">IIII\", fimg.read(16))\n",
    "        image = np.fromstring(fimg.read(), dtype=np.uint8).reshape(\n",
    "            len(label), rows, cols)\n",
    "    return (label, image)\n"
   ]
  },
  {
   "cell_type": "code",
   "execution_count": 3,
   "metadata": {
    "collapsed": true
   },
   "outputs": [],
   "source": [
    "def Get_image_lable(img, lable):\n",
    "    x = [random.randint(0, 9) for x in range(3)]\n",
    "    black = np.zeros((28, 28), dtype='uint8')\n",
    "    for i in range(3):\n",
    "        if x[i] == 0:\n",
    "            img[:, i * 28:(i + 1) * 28] = black\n",
    "            lable[i] = 10\n",
    "    return img, lable"
   ]
  },
  {
   "cell_type": "code",
   "execution_count": 10,
   "metadata": {
    "collapsed": true
   },
   "outputs": [],
   "source": [
    "def GetImage(image,lable):\n",
    "    num = [random.randint(0, 5000 - 1)\n",
    "           for i in range(3)]\n",
    "\n",
    "    img, _ = Get_image_lable(\n",
    "        np.hstack((image[x] for x in num)), np.array([lable[x] for x in num]))\n",
    "    imgw = 255 - img\n",
    "    cv2.imwrite(\"img.jpg\", imgw)\n",
    "    img = np.multiply(img, 1 / 255.0)\n",
    "    img = img.reshape(1, 1, 28, 84)\n",
    "    return img,imgw"
   ]
  },
  {
   "cell_type": "code",
   "execution_count": 4,
   "metadata": {
    "collapsed": true
   },
   "outputs": [],
   "source": [
    "class OCRIter():\n",
    "    def __init__(self, count, batch_size, num_label, height, width, lable, image):\n",
    "        self.batch_size = batch_size\n",
    "        self.count = count\n",
    "        self.height = height\n",
    "        self.width = width\n",
    "        self.lable = lable\n",
    "        self.image = image\n",
    "        self.num_label = num_label\n",
    "\n",
    "    def __iter__(self):\n",
    "        for k in range(self.count / self.batch_size):\n",
    "            data = []\n",
    "            label = []\n",
    "            for i in range(self.batch_size):\n",
    "                num = [random.randint(0, self.count - 1)\n",
    "                       for i in range(self.num_label)]\n",
    "                img, lab = Get_image_lable(np.hstack(\n",
    "                    (self.image[x] for x in num)), np.array([self.lable[x] for x in num]))\n",
    "                img = np.multiply(img, 1 / 255.0)\n",
    "                data.append(img.reshape(1, self.height, self.width))\n",
    "                label.append(lab)\n",
    "                \n",
    "            data_all = nd.array(data,ctx=mx.gpu())\n",
    "            label_all = nd.array(label,ctx=mx.gpu())\n",
    "            yield data_all,label_all"
   ]
  },
  {
   "cell_type": "code",
   "execution_count": 5,
   "metadata": {
    "collapsed": true
   },
   "outputs": [],
   "source": [
    "def Accuracy(label, pred):\n",
    "    label = label.T.reshape((-1, ))\n",
    "    hit = 0\n",
    "    \n",
    "    for i in range(pred.shape[0] / 3):\n",
    "        ok = True\n",
    "        for j in range(3):\n",
    "            k = i * 3 + j\n",
    "            if np.argmax(pred[k]) != int(label[k]):\n",
    "                ok = False\n",
    "        if ok:\n",
    "            hit += 1\n",
    "    return hit"
   ]
  },
  {
   "cell_type": "code",
   "execution_count": 6,
   "metadata": {
    "collapsed": true
   },
   "outputs": [],
   "source": [
    "class Cont(nn.HybridBlock):\n",
    "    def __init__(self,**kwargs):\n",
    "        super(Cont,self).__init__(**kwargs)\n",
    "        with self.name_scope():\n",
    "            self.dese0 = nn.Dense(11)\n",
    "            self.dese1 = nn.Dense(11)\n",
    "            self.dese2 = nn.Dense(11)\n",
    "    def hybrid_forward(self,F,X):\n",
    "        return F.concat(*[self.dese0(X),self.dese1(X),self.dese2(X)],dim=0)\n"
   ]
  },
  {
   "cell_type": "code",
   "execution_count": 7,
   "metadata": {
    "collapsed": true
   },
   "outputs": [],
   "source": [
    "def GetNet():\n",
    "    net = nn.HybridSequential()\n",
    "    with net.name_scope():\n",
    "        net.add(nn.Conv2D(channels=32,kernel_size=5,activation='relu'))\n",
    "        net.add(nn.MaxPool2D(pool_size=2,strides=1))\n",
    "        \n",
    "        net.add(nn.Conv2D(channels=32,kernel_size=5,activation='relu'))\n",
    "        net.add(nn.AvgPool2D(pool_size=2,strides=1))\n",
    "        \n",
    "        net.add(nn.Conv2D(channels=32,kernel_size=3,activation='relu'))\n",
    "        net.add(nn.AvgPool2D(pool_size=2,strides=1))\n",
    "        \n",
    "        net.add(nn.Conv2D(channels=32,kernel_size=3,activation='relu'))\n",
    "        net.add(nn.AvgPool2D(pool_size=2,strides=1))\n",
    "        \n",
    "        net.add(nn.Flatten())\n",
    "        net.add(nn.Dense(256))\n",
    "        net.add(Cont())\n",
    "        return net"
   ]
  },
  {
   "cell_type": "code",
   "execution_count": 35,
   "metadata": {
    "collapsed": true
   },
   "outputs": [],
   "source": [
    "def predict(img,mod):\n",
    "    mod.forward(Batch([mx.nd.array(img)]))\n",
    "    out = mod.get_outputs()\n",
    "    prob = out[0].asnumpy()\n",
    "\n",
    "    line = ''\n",
    "    for i in range(prob.shape[0]):\n",
    "        line += str(np.argmax(prob[i])\n",
    "                    if int(np.argmax(prob[i])) != 10 else ' ')\n",
    "    return line"
   ]
  },
  {
   "cell_type": "code",
   "execution_count": 9,
   "metadata": {
    "collapsed": true
   },
   "outputs": [],
   "source": [
    "(train_lable, train_image) = read_data(\n",
    "        '../train-labels-idx1-ubyte.gz', '../train-images-idx3-ubyte.gz')\n",
    "(test_lable, test_image) = read_data(\n",
    "        '../t10k-labels-idx1-ubyte.gz', '../t10k-images-idx3-ubyte.gz')"
   ]
  },
  {
   "cell_type": "markdown",
   "metadata": {},
   "source": [
    "将Gluon模型转换成Symbol类型保存到硬盘，并且保存Gluon模型参数至硬盘"
   ]
  },
  {
   "cell_type": "code",
   "execution_count": 22,
   "metadata": {
    "collapsed": true
   },
   "outputs": [],
   "source": [
    "net = GetNet()\n",
    "net.load_params('../cnn_mnist_gluon',ctx=mx.cpu())\n",
    "net.hybridize()\n",
    "x = mx.sym.var('data')\n",
    "y = net(x)\n",
    "y.save('../cnn_mnist_gluon.json')\n",
    "net.collect_params().save('../cnn_mnist_gluon.params')"
   ]
  },
  {
   "cell_type": "markdown",
   "metadata": {},
   "source": [
    "加载Symbol模型网络，绑定模型至mod，加载模型参数，设置模型参数"
   ]
  },
  {
   "cell_type": "code",
   "execution_count": 45,
   "metadata": {},
   "outputs": [
    {
     "name": "stdout",
     "output_type": "stream",
     "text": [
      "<Symbol hybridsequential5_cont0_concat0>\n"
     ]
    },
    {
     "name": "stderr",
     "output_type": "stream",
     "text": [
      "D:\\miniconda3\\envs\\gluon\\lib\\site-packages\\mxnet\\module\\base_module.py:53: UserWarning: \u001b[91mYou created Module with Module(..., label_names=['softmax_label']) but input with name 'softmax_label' is not found in symbol.list_arguments(). Did you mean one of:\n",
      "\tdata\u001b[0m\n",
      "  warnings.warn(msg)\n",
      "D:\\miniconda3\\envs\\gluon\\lib\\site-packages\\mxnet\\module\\base_module.py:65: UserWarning: Data provided by label_shapes don't match names specified by label_names ([] vs. ['softmax_label'])\n",
      "  warnings.warn(msg)\n"
     ]
    }
   ],
   "source": [
    "symnet = mx.symbol.load('../cnn_mnist_gluon.json')\n",
    "mod = mx.mod.Module(symbol=y, context=mx.cpu())\n",
    "mod.bind(data_shapes=[('data', (1, 1, 28, 84))])\n",
    "params = nd.load('../cnn_mnist_gluon.params')\n",
    "mod.set_params(arg_params=params,aux_params={})\n",
    "Batch = namedtuple('Batch', ['data'])"
   ]
  },
  {
   "cell_type": "code",
   "execution_count": 56,
   "metadata": {},
   "outputs": [
    {
     "data": {
      "image/png": "[encoded data removed]",
      "text/plain": [
       "<matplotlib.figure.Figure at 0x1ae5d142a20>"
      ]
     },
     "metadata": {},
     "output_type": "display_data"
    },
    {
     "name": "stdout",
     "output_type": "stream",
     "text": [
      "391\n"
     ]
    }
   ],
   "source": [
    "img,imgw = GetImage(test_image,test_lable)\n",
    "line = predict(img,mod)\n",
    "plt.imshow(imgw, cmap='Greys_r')\n",
    "plt.axis('off')\n",
    "plt.show()\n",
    "print(line)"
   ]
  }
 ],
 "metadata": {
  "kernelspec": {
   "display_name": "Python 3",
   "language": "python",
   "name": "python3"
  },
  "language_info": {
   "codemirror_mode": {
    "name": "ipython",
    "version": 3
   },
   "file_extension": ".py",
   "mimetype": "text/x-python",
   "name": "python",
   "nbconvert_exporter": "python",
   "pygments_lexer": "ipython3",
   "version": "3.6.2"
  }
 },
 "nbformat": 4,
 "nbformat_minor": 2
}
